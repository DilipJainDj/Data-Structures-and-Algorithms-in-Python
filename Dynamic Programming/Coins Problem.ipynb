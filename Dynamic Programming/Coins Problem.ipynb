{
 "cells": [
  {
   "cell_type": "markdown",
   "metadata": {},
   "source": [
    "## Coins Problem"
   ]
  },
  {
   "cell_type": "code",
   "execution_count": 2,
   "metadata": {},
   "outputs": [],
   "source": [
    "import sys"
   ]
  },
  {
   "cell_type": "code",
   "execution_count": 3,
   "metadata": {},
   "outputs": [],
   "source": [
    "INT_MAX=sys.maxsize\n",
    "INT_MIN=-sys.maxsize-1"
   ]
  },
  {
   "cell_type": "markdown",
   "metadata": {},
   "source": [
    "## Solution of coins problem using Recursion"
   ]
  },
  {
   "cell_type": "code",
   "execution_count": 11,
   "metadata": {},
   "outputs": [
    {
     "name": "stdout",
     "output_type": "stream",
     "text": [
      "4\n"
     ]
    }
   ],
   "source": [
    "def FindMinCoins(c,n,amt):\n",
    "    if amt==0:\n",
    "        return 0\n",
    "    if amt<0:\n",
    "        return INT_MAX\n",
    "    coins = INT_MAX\n",
    "    for i in range(0,n):\n",
    "        res = FindMinCoins(c,n,amt-c[i])\n",
    "        if res!=INT_MAX:\n",
    "            coins = min(coins,res+1)\n",
    "    return coins\n",
    "\n",
    "if __name__==\"__main__\":\n",
    "    c = [1,2,3,4]\n",
    "    n = len(c)\n",
    "    amt = 15\n",
    "    print(FindMinCoins(c,n,amt))"
   ]
  },
  {
   "cell_type": "markdown",
   "metadata": {},
   "source": [
    "## Solution of coins problem using Dynamic Programming"
   ]
  },
  {
   "cell_type": "code",
   "execution_count": 6,
   "metadata": {},
   "outputs": [
    {
     "name": "stdout",
     "output_type": "stream",
     "text": [
      "4\n"
     ]
    }
   ],
   "source": [
    "def FindMinCoins(c,n,amt):\n",
    "    T = [None]*(amt+1)\n",
    "    T[0] = 0\n",
    "    for i in range(1,amt+1):\n",
    "        T[i] = INT_MAX\n",
    "        res = INT_MAX\n",
    "        for j in range(0,n):\n",
    "            if (i-c[j])>=0:\n",
    "                res = T[i-c[j]]\n",
    "            if res!=INT_MAX:\n",
    "                T[i] = min(T[i],res+1)\n",
    "    return T[amt]\n",
    "\n",
    "if __name__==\"__main__\":\n",
    "    c = [1,2,3,4]\n",
    "    n = len(c)\n",
    "    amt = 15\n",
    "    print(FindMinCoins(c,n,amt))"
   ]
  },
  {
   "cell_type": "code",
   "execution_count": null,
   "metadata": {},
   "outputs": [],
   "source": []
  }
 ],
 "metadata": {
  "kernelspec": {
   "display_name": "Python 3",
   "language": "python",
   "name": "python3"
  },
  "language_info": {
   "codemirror_mode": {
    "name": "ipython",
    "version": 3
   },
   "file_extension": ".py",
   "mimetype": "text/x-python",
   "name": "python",
   "nbconvert_exporter": "python",
   "pygments_lexer": "ipython3",
   "version": "3.7.6"
  }
 },
 "nbformat": 4,
 "nbformat_minor": 2
}
