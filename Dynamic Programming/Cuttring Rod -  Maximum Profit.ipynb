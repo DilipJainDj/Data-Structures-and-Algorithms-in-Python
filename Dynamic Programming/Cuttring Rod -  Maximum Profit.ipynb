{
 "cells": [
  {
   "cell_type": "markdown",
   "metadata": {},
   "source": [
    "## Rod Cutting Problem  - Obtain Maximum Profit -  Recursion"
   ]
  },
  {
   "cell_type": "code",
   "execution_count": 2,
   "metadata": {},
   "outputs": [
    {
     "name": "stdout",
     "output_type": "stream",
     "text": [
      "Maximum Obtainable Value is 10\n"
     ]
    }
   ],
   "source": [
    "import sys\n",
    "INT_MIN = -sys.maxsize-1\n",
    "def RodCut(price, n):\n",
    "    if n==0:\n",
    "        return 0\n",
    "    maxvalue = INT_MIN\n",
    "    for i in range(1,n+1):\n",
    "        maxvalue = max(maxvalue,price[i-1]+RodCut(price,n-i))\n",
    "    return maxvalue\n",
    "\n",
    "if __name__==\"__main__\":\n",
    "    length = [1,2,3,4,5,6,7,8] \n",
    "    price = [1,5,8,9,10,17,17,20]\n",
    "    size = len(length) \n",
    "    print(\"Maximum Obtainable Value is \" + str(RodCut(price, 4))) "
   ]
  },
  {
   "cell_type": "markdown",
   "metadata": {},
   "source": [
    "## Rod cut problem solution -  Dynamic Programming"
   ]
  },
  {
   "cell_type": "code",
   "execution_count": 7,
   "metadata": {},
   "outputs": [
    {
     "name": "stdout",
     "output_type": "stream",
     "text": [
      "Maximum Obtainable Value is 13\n"
     ]
    }
   ],
   "source": [
    "def Rod_Cut(price, n): \n",
    "    T = [0]*(n+1)\n",
    "    T[0] = 0\n",
    "    for i in range(1, n+1): \n",
    "        for j in range(i): \n",
    "             T[i] = max(T[i], price[j] + T[i-j-1])  \n",
    "    return T[n] \n",
    "\n",
    "if __name__==\"__main__\":\n",
    "    length = [1,2,3,4,5,6,7,8] \n",
    "    price = [1,5,8,9,10,17,17,20]\n",
    "    size = len(length) \n",
    "    print(\"Maximum Obtainable Value is \" + str(Rod_Cut(price, 5))) "
   ]
  },
  {
   "cell_type": "code",
   "execution_count": null,
   "metadata": {},
   "outputs": [],
   "source": []
  }
 ],
 "metadata": {
  "kernelspec": {
   "display_name": "Python 3",
   "language": "python",
   "name": "python3"
  },
  "language_info": {
   "codemirror_mode": {
    "name": "ipython",
    "version": 3
   },
   "file_extension": ".py",
   "mimetype": "text/x-python",
   "name": "python",
   "nbconvert_exporter": "python",
   "pygments_lexer": "ipython3",
   "version": "3.7.6"
  }
 },
 "nbformat": 4,
 "nbformat_minor": 4
}
