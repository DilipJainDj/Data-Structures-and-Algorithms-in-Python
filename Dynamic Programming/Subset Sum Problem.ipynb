{
 "cells": [
  {
   "cell_type": "markdown",
   "metadata": {},
   "source": [
    "## Sub Set Sum problem using recursion"
   ]
  },
  {
   "cell_type": "code",
   "execution_count": 11,
   "metadata": {},
   "outputs": [
    {
     "name": "stdout",
     "output_type": "stream",
     "text": [
      "No\n"
     ]
    }
   ],
   "source": [
    "def subsetsum(a,n,sm):\n",
    "    if sm==0:\n",
    "        return 1\n",
    "    if (n<0) or (sm<0):\n",
    "        return 0\n",
    "    inc = subsetsum(a,n-1,sm-a[n])\n",
    "    exc = subsetsum(a,n-1,sm)\n",
    "    return inc or exc\n",
    "if __name__==\"__main__\":\n",
    "    a = [7,3,2,5,8]\n",
    "    sm = 6\n",
    "    n = len(a)\n",
    "    if subsetsum(a,n-1,sm):\n",
    "        print(\"Yes\")\n",
    "    else:\n",
    "        print(\"No\")\n"
   ]
  },
  {
   "cell_type": "markdown",
   "metadata": {},
   "source": [
    "## SubSet sum problem using Dynamic programming"
   ]
  },
  {
   "cell_type": "code",
   "execution_count": 91,
   "metadata": {},
   "outputs": [
    {
     "name": "stdout",
     "output_type": "stream",
     "text": [
      "No\n"
     ]
    }
   ],
   "source": [
    "def subsetsum(a,n, sm):\n",
    "    T =([[False for i in range(sm + 1)]  \n",
    "        for i in range(n + 1)]) \n",
    "    \n",
    "    for i in range(1,sm+1):\n",
    "        T[0][i] = 0\n",
    "        \n",
    "    for i in range(n+1):\n",
    "        T[i][0]= 1\n",
    "\n",
    "    for i in range(1,n+1):\n",
    "        for j in range(1,sm+1):\n",
    "            if a[i-1]>j:\n",
    "                T[i][j] = T[i-1][j]\n",
    "            else:\n",
    "                T[i][j] = T[i-1][j] | T[i-1][j-a[i-1]]    \n",
    "    return T[n][sm]\n",
    "\n",
    "if __name__==\"__main__\":\n",
    "    a = [7,3,2,5,8]\n",
    "    sm = 4\n",
    "    n = len(a)\n",
    "    if subsetsum(a,n-1,sm):\n",
    "        print(\"Yes\")\n",
    "    else:\n",
    "        print(\"No\")"
   ]
  },
  {
   "cell_type": "code",
   "execution_count": null,
   "metadata": {},
   "outputs": [],
   "source": []
  }
 ],
 "metadata": {
  "kernelspec": {
   "display_name": "Python 3",
   "language": "python",
   "name": "python3"
  },
  "language_info": {
   "codemirror_mode": {
    "name": "ipython",
    "version": 3
   },
   "file_extension": ".py",
   "mimetype": "text/x-python",
   "name": "python",
   "nbconvert_exporter": "python",
   "pygments_lexer": "ipython3",
   "version": "3.7.6"
  }
 },
 "nbformat": 4,
 "nbformat_minor": 4
}
