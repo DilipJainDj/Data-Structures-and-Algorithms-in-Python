{
 "cells": [
  {
   "cell_type": "markdown",
   "metadata": {},
   "source": [
    "<p style=\"color:Green;font-size:20px\"><strong>Array Based Implementation</strong></P>"
   ]
  },
  {
   "cell_type": "code",
   "execution_count": 18,
   "metadata": {},
   "outputs": [],
   "source": [
    "class Stack(object):\n",
    "    def __init__(self, limit=10):\n",
    "        self.stk = []\n",
    "        self.limit=limit\n",
    "        \n",
    "    def is_empty(self):\n",
    "        if len(self.stk)<=0:\n",
    "            print(\"Stack is empty\")\n",
    "        \n",
    "    def push(self,item):\n",
    "        if len(self.stk)>=self.limit:\n",
    "            print(\"Stack Overflow\")\n",
    "        else:\n",
    "            self.stk.append(item)\n",
    "            print(\"Stack After Push Operation=\",self.stk)\n",
    "            \n",
    "    def pop(self):\n",
    "        if len(self.stk)<=0:\n",
    "            print(\"Stack Underflow\")\n",
    "        else:\n",
    "            print(\"Popped element=\",self.stk.pop())\n",
    "        \n",
    "    def top(self):\n",
    "        if len(self.stk)<=0:\n",
    "            print(\"Stack Underflow\")\n",
    "        else:\n",
    "            print(\"Top element of the stack=\",self.stk[-1])\n",
    "        \n",
    "    def size(self):\n",
    "        print(\"length of the stack=\",len(self.stk))"
   ]
  },
  {
   "cell_type": "code",
   "execution_count": 19,
   "metadata": {},
   "outputs": [
    {
     "name": "stdout",
     "output_type": "stream",
     "text": [
      "Stack After Push Operation= ['1']\n",
      "Stack After Push Operation= ['1', '11']\n",
      "Stack After Push Operation= ['1', '11', '21']\n",
      "Stack After Push Operation= ['1', '11', '21', '31']\n",
      "Stack After Push Operation= ['1', '11', '21', '31', '41']\n",
      "Stack Overflow\n",
      "Stack Overflow\n",
      "Stack Overflow\n"
     ]
    }
   ],
   "source": [
    "st = Stack(5)\n",
    "st.push(\"1\")\n",
    "st.push(\"11\")\n",
    "st.push(\"21\")\n",
    "st.push(\"31\")\n",
    "st.push(\"41\")\n",
    "st.push(\"51\")\n",
    "st.push(\"61\")\n",
    "st.push(\"71\")"
   ]
  },
  {
   "cell_type": "code",
   "execution_count": 20,
   "metadata": {},
   "outputs": [
    {
     "name": "stdout",
     "output_type": "stream",
     "text": [
      "Top element of the stack= 41\n",
      "Popped element= 41\n",
      "Top element of the stack= 31\n",
      "Popped element= 31\n",
      "length of the stack= 3\n"
     ]
    }
   ],
   "source": [
    "st.top()\n",
    "st.pop()\n",
    "st.top()\n",
    "st.pop()\n",
    "st.size()\n",
    "st.is_empty()"
   ]
  },
  {
   "cell_type": "code",
   "execution_count": 21,
   "metadata": {},
   "outputs": [
    {
     "name": "stdout",
     "output_type": "stream",
     "text": [
      "c\n",
      "a\n"
     ]
    }
   ],
   "source": [
    "# lst = ['first','second','third','four']\n",
    "st = Stack_linkedlist()\n",
    "st.push('a')\n",
    "st.push('c')\n",
    "print(st.pop())\n",
    "print(st.top())"
   ]
  },
  {
   "cell_type": "code",
   "execution_count": 16,
   "metadata": {},
   "outputs": [],
   "source": [
    "st.push(10)"
   ]
  }
 ],
 "metadata": {
  "kernelspec": {
   "display_name": "Python 3",
   "language": "python",
   "name": "python3"
  },
  "language_info": {
   "codemirror_mode": {
    "name": "ipython",
    "version": 3
   },
   "file_extension": ".py",
   "mimetype": "text/x-python",
   "name": "python",
   "nbconvert_exporter": "python",
   "pygments_lexer": "ipython3",
   "version": "3.7.6"
  }
 },
 "nbformat": 4,
 "nbformat_minor": 4
}
