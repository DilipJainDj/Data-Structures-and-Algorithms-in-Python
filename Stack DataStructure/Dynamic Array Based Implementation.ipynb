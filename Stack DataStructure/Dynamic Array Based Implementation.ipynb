{
 "cells": [
  {
   "cell_type": "markdown",
   "metadata": {},
   "source": [
    "<p style=\"color:Green;font-size:20px\"><strong>Dynamic Array Based Implementation</strong></P>"
   ]
  },
  {
   "cell_type": "code",
   "execution_count": 1,
   "metadata": {},
   "outputs": [],
   "source": [
    "class DynamicStack(object):\n",
    "    def __init__(self,limit=10):\n",
    "        self.stk = limit*[]\n",
    "        self.limit = limit\n",
    "    def is_empty(self):\n",
    "        return len(self.stk)<=0\n",
    "    def push(self,item):\n",
    "        if len(self.stk)>=self.limit:\n",
    "            self.resize()\n",
    "        self.stk.append(item)\n",
    "        print(\"Stack after Push=\",self.stk)\n",
    "    def pop(self):\n",
    "        if len(self.stk)<=0:\n",
    "            print(\"Stack Underflow\")\n",
    "            return 0\n",
    "        else:\n",
    "            return self.stk.pop()\n",
    "    def top(self):\n",
    "        if len(self.stk)<=0:\n",
    "            print(\"Stack Underflow\")\n",
    "            return 0\n",
    "        else:\n",
    "            return self.stk[-1]\n",
    "    def size(self):\n",
    "        return len(self.stk)\n",
    "    def resize(self):\n",
    "        newstk = list(self.stk)\n",
    "        self.limit = 2*self.limit\n",
    "        self.stk = newstk\n",
    "        "
   ]
  },
  {
   "cell_type": "code",
   "execution_count": 2,
   "metadata": {},
   "outputs": [
    {
     "name": "stdout",
     "output_type": "stream",
     "text": [
      "Stack after Push= ['1']\n",
      "Stack after Push= ['1', '11']\n",
      "Stack after Push= ['1', '11', '21']\n",
      "Stack after Push= ['1', '11', '21', '31']\n",
      "Stack after Push= ['1', '11', '21', '31', '41']\n",
      "Stack after Push= ['1', '11', '21', '31', '41', '51']\n",
      "Stack after Push= ['1', '11', '21', '31', '41', '51', '61']\n",
      "Stack after Push= ['1', '11', '21', '31', '41', '51', '61', '71']\n"
     ]
    }
   ],
   "source": [
    "st = DynamicStack(5)\n",
    "st.push(\"1\")\n",
    "st.push(\"11\")\n",
    "st.push(\"21\")\n",
    "st.push(\"31\")\n",
    "st.push(\"41\")\n",
    "st.push(\"51\")\n",
    "st.push(\"61\")\n",
    "st.push(\"71\")"
   ]
  },
  {
   "cell_type": "code",
   "execution_count": 5,
   "metadata": {},
   "outputs": [
    {
     "name": "stdout",
     "output_type": "stream",
     "text": [
      "31\n",
      "31\n",
      "21\n",
      "21\n",
      "2\n",
      "False\n"
     ]
    }
   ],
   "source": [
    "print(st.top())\n",
    "print(st.pop())\n",
    "print(st.top())\n",
    "print(st.pop())\n",
    "print(st.size())\n",
    "print(st.is_empty())"
   ]
  }
 ],
 "metadata": {
  "kernelspec": {
   "display_name": "Python 3",
   "language": "python",
   "name": "python3"
  },
  "language_info": {
   "codemirror_mode": {
    "name": "ipython",
    "version": 3
   },
   "file_extension": ".py",
   "mimetype": "text/x-python",
   "name": "python",
   "nbconvert_exporter": "python",
   "pygments_lexer": "ipython3",
   "version": "3.7.6"
  }
 },
 "nbformat": 4,
 "nbformat_minor": 4
}
