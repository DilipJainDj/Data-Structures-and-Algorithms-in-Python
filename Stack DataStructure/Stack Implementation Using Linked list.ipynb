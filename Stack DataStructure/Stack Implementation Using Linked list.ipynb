{
 "cells": [
  {
   "cell_type": "markdown",
   "metadata": {},
   "source": [
    "<p style=\"color:Green;font-size:20px\"><strong>Stack Implementation Using Linked list</strong></P>"
   ]
  },
  {
   "cell_type": "code",
   "execution_count": 1,
   "metadata": {},
   "outputs": [],
   "source": [
    "\"\"\" Create Node Class \"\"\"\n",
    "\n",
    "class Node:\n",
    "    def __init__(self):\n",
    "        self.data = None\n",
    "        self.next = None\n",
    "    def set_data(self,data):\n",
    "        self.data = data\n",
    "    def get_data(self):\n",
    "        return self.data\n",
    "    def set_next(self,next):\n",
    "        self.next = next\n",
    "    def get_next(self):\n",
    "        return self.next"
   ]
  },
  {
   "cell_type": "code",
   "execution_count": 2,
   "metadata": {},
   "outputs": [],
   "source": [
    "\"\"\"Stact Inplementation using linked list\"\"\"\n",
    "class Stack_linkedlist:\n",
    "    def __init__(self,data=None):\n",
    "        self.head = None\n",
    "        if data:\n",
    "            for data in data:\n",
    "                self.push(data)\n",
    "                \n",
    "    def push(self,data):\n",
    "        temp = Node()\n",
    "        temp.set_data(data)\n",
    "        temp.set_next(self.head)\n",
    "        self.head = temp\n",
    "        \n",
    "    def pop(self):\n",
    "        if self.head is None:\n",
    "            raise IndexError\n",
    "        temp = self.head.get_data()\n",
    "        self.head = self.head.get_next()\n",
    "        return temp\n",
    "    \n",
    "    def top(self):\n",
    "        if self.head is None:\n",
    "            raise IndexError\n",
    "        return self.head.get_data()\n",
    "    "
   ]
  },
  {
   "cell_type": "code",
   "execution_count": 6,
   "metadata": {},
   "outputs": [
    {
     "name": "stdout",
     "output_type": "stream",
     "text": [
      "c\n",
      "a\n"
     ]
    }
   ],
   "source": [
    "lst = ['first','second','third','four']\n",
    "st = Stack_linkedlist()\n",
    "st.push('a')\n",
    "st.push('c')\n",
    "print(st.pop())\n",
    "print(st.top())"
   ]
  },
  {
   "cell_type": "code",
   "execution_count": 4,
   "metadata": {},
   "outputs": [],
   "source": [
    "st.push(10)"
   ]
  },
  {
   "cell_type": "code",
   "execution_count": null,
   "metadata": {},
   "outputs": [],
   "source": []
  }
 ],
 "metadata": {
  "kernelspec": {
   "display_name": "Python 3",
   "language": "python",
   "name": "python3"
  },
  "language_info": {
   "codemirror_mode": {
    "name": "ipython",
    "version": 3
   },
   "file_extension": ".py",
   "mimetype": "text/x-python",
   "name": "python",
   "nbconvert_exporter": "python",
   "pygments_lexer": "ipython3",
   "version": "3.7.6"
  }
 },
 "nbformat": 4,
 "nbformat_minor": 4
}
