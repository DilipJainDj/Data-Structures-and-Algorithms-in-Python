{
 "cells": [
  {
   "cell_type": "markdown",
   "metadata": {},
   "source": [
    "## Math probelms\n"
   ]
  },
  {
   "cell_type": "markdown",
   "metadata": {},
   "source": [
    "Given an integral number N. The task is to find the count of digits present in this number."
   ]
  },
  {
   "cell_type": "markdown",
   "metadata": {},
   "source": [
    "<strong>Solution</strong><br>\n",
    "Check if the number N is not equals to zero.<br>\n",
    "Increase the count of digits by 1 if N is not zero.<br>\n",
    "Reduce the number by dividing it by 10.<br>\n",
    "Repeat the above steps until the number is reduced to zero.<br>"
   ]
  },
  {
   "cell_type": "code",
   "execution_count": 26,
   "metadata": {},
   "outputs": [
    {
     "name": "stdout",
     "output_type": "stream",
     "text": [
      "Enter a Number789456213\n",
      "total number in n is: 9\n"
     ]
    }
   ],
   "source": [
    "n = int(input(\"Enter a Number\"))\n",
    "c = 0\n",
    "while n!=0:\n",
    "    c = c+1\n",
    "    n = n//10\n",
    "print(\"total number in n is:\",c)"
   ]
  },
  {
   "cell_type": "markdown",
   "metadata": {},
   "source": [
    "## Analysis of above algorithm: \n",
    "You can clearly see that, the number of operations performed in the above solution is equal to the count of digits present in the number. So, the time complexity of the solution is **O(digitsCount)**."
   ]
  },
  {
   "cell_type": "markdown",
   "metadata": {},
   "source": [
    "Solution using Mathematics\n",
    "\n",
    "number of digits in N = log10(N) + 1."
   ]
  },
  {
   "cell_type": "markdown",
   "metadata": {},
   "source": [
    "# Airthmetic Progression\n",
    "If the difference between any two consecutive terms is always the same. In simple terms, it means that the next number in the series is calculated by adding a fixed number to the previous number in the series. "
   ]
  },
  {
   "cell_type": "markdown",
   "metadata": {},
   "source": [
    "### Example\n",
    "2, 4, 6, 8, 10 is an AP because difference between any two consecutive terms in the series (common difference) is same (4 - 2 = 6 - 4 = 8 - 6 = 10 - 8 = 2)."
   ]
  },
  {
   "cell_type": "markdown",
   "metadata": {},
   "source": [
    "## Facts about Arithmetic Progression :\n",
    "- **Initial term:** In an arithmetic progression, the first number in the series is called the initial term.\n",
    "- **Common difference:** The value by which consecutive terms increase or decrease is called the common difference.\n",
    "- The behavior of the arithmetic progression depends on the common difference d. If the common difference is:positive, then the members (terms) will grow towards positive infinity or negative, then the members (terms) will grow towards negative infinity.\n",
    "\n",
    "# Formula of nth term of an A.P:\n",
    "<p style=\"font-size:30px\"><strong>a<sub>n</sub> = a<sub>1</sub> +(n-1)*d</strong></p>\n",
    "\n",
    "- **a is the initial term**\n",
    "\n",
    "- **d is the comman difference**\n",
    "# Formula of sum of first n term of an A.P:\n",
    "<p style=\"font-size:30px\"><strong>S<sub>n</sub> = n/2[2a + (n-1)*d]</strong></p>\n",
    "\n",
    "#### Airthmetic Mean = Sum of all terms in AP / Number of terms in the AP\n",
    "- **Sum of 'n' terms of an AP**\n",
    " = 0.5**n(first terms+last term) = n/2[ 2a + (n-1)* d ]"
   ]
  },
  {
   "cell_type": "markdown",
   "metadata": {},
   "source": [
    "## Geometric Progression\n",
    "A sequence of numbers is said to be in a Geometric progression if the ratio of any two consecutive terms is always same. \n",
    "<ul>\n",
    "    <li><strong>nth term of a GP</strong> = a<sub>1</sub>*r<sup>n-1</sup>.</li>\n",
    "<li><strong>Geometric Mean</strong> = n<sup>th</sup> root of product of n terms in the GP.</li>\n",
    "<li><strong>Sum of ‘n’ terms</strong> of a GP (r &lt; 1) = [a (1 – r<sup>n</sup>)] / [1 – r].</li>\n",
    "<li><strong>Sum of ‘n’ terms</strong> of a GP (r &gt; 1) = [a (r<sup>n</sup> – 1)] / [r – 1].</li>\n",
    "<li><strong>Sum of infinite terms</strong> of a GP (r &lt; 1) = (a) / (1 – r).</li>\n",
    "</ul>"
   ]
  },
  {
   "cell_type": "markdown",
   "metadata": {},
   "source": [
    "## Quadratic Equations\n",
    "A quadratic equation is a second-order polynomial equation of a variable say x. The general form of a quadratic equation is given as:\n",
    "<p style=\"font-size:20px\"> a*x<sup>2</sup> + b*x + c = 0 </p>\n",
    "\n",
    "Where a,b and c are real known values and,\n",
    "a can't be zero.\n",
    "\n",
    "## Roots of an Equation: \n",
    "<p style=\"font-size:20px\"> (-b &#8723; &#8730;(b(<sup>2</sup> - 4ac))/2a</p>\n",
    "\n",
    "<pre>If <strong>b<sup>2</sup> &lt; 4ac</strong>, then roots are complex(not real).<br>For example roots of x<sup>2</sup> + x + 1, roots are<br>-0.5 + i1.73205 and -0.5 - i1.73205<br><br>If <strong>b<sup>2</sup> = 4ac</strong>, then roots are real <br>and both roots are same.<br>For example, roots of x<sup>2</sup> - 2x + 1 are 1 and 1<br><br>If <strong>b<sup>2</sup> &gt; 4ac</strong>, then roots are real <br>and different.<br>For example, roots of x<sup>2</sup> - 7x - 12 are 3 and 4</pre>"
   ]
  },
  {
   "cell_type": "markdown",
   "metadata": {},
   "source": [
    "## Mean and Median\n",
    "<strong>Formula for finding Mean :</strong><br>\n",
    "**Mean** = (x1+x2+x3+.....+xn)/n\n",
    "\n",
    "<strong>Formula for finding Median :</strong>\n",
    "<ul>\n",
    "<li>If the count of numbers is odd: After sorting the sequence,<br>\n",
    "<pre>Median = {(N+1)/2}<sup>th</sup> value.<br></pre>\n",
    "</li>\n",
    "<li>If the count of numbers is even: After sorting the sequence,<br>\n",
    "<pre>Median  =  Average of (N/2)<sup>th</sup> and {(N/2) + 1}<sup>th</sup> value.<br></pre>\n",
    "</li>\n",
    "</ul>"
   ]
  },
  {
   "cell_type": "markdown",
   "metadata": {},
   "source": [
    "## Prime Numbers\n",
    "A prme number is a whole number greater than 1, which is only divisible by 1 and itself. First few prime nubers are: 2,3,5,7,11,13,19,23 ....\n",
    "\n",
    "<strong>Naive Method to Check if a number is Prime</strong>\n",
    ": Since a number is prime only if it is divisible by 1 and the number itself, the naive method to check for primality of a number would be to iterate from 1 to N and check if there aren't any factors of N except and 1 and N itself. \n",
    "\n",
    "***Algorithms:***\n",
    "<ol>\n",
    "<li>If, N is less than 2. It is not prime, return False.</li>\n",
    "<li>Else:<br>\n",
    "<ul>\n",
    "<li>Iterate from 2 to N-1 and check if any of the numbers between 2 and N-1 (both inclusive) divides N or not. If yes, then N is not prime, return False.</li>\n",
    "<li>Otherwise, return True.</li>\n",
    "</ul>\n",
    "</li>\n",
    "</ol>"
   ]
  },
  {
   "cell_type": "markdown",
   "metadata": {},
   "source": [
    "### More time consuming\n",
    "\n",
    "```\n",
    "n = int(input(\"Enter a Number to check it is prime or Not: \"))\n",
    "def CheckPrime(n):\n",
    "    prime = True\n",
    "    if n<2:\n",
    "        prime = False\n",
    "    else:\n",
    "        for i in range(2,n-1):\n",
    "            if n%i==0:\n",
    "                prime = False\n",
    "    return prime\n",
    "\n",
    "CheckPrime(n)\n",
    "```"
   ]
  },
  {
   "cell_type": "markdown",
   "metadata": {},
   "source": [
    "### Less time consuming"
   ]
  },
  {
   "cell_type": "code",
   "execution_count": 63,
   "metadata": {},
   "outputs": [
    {
     "name": "stdout",
     "output_type": "stream",
     "text": [
      "Enter a Number to check it is prime or Not: 5\n"
     ]
    },
    {
     "data": {
      "text/plain": [
       "True"
      ]
     },
     "execution_count": 63,
     "metadata": {},
     "output_type": "execute_result"
    }
   ],
   "source": [
    "n = int(input(\"Enter a Number to check it is prime or Not: \"))\n",
    "def CheckPrime(n):\n",
    "    prime = True\n",
    "    if n<2:\n",
    "        prime = False\n",
    "    else:\n",
    "        for i in range(2,int(n**0.5)+1):\n",
    "            if n%i==0:\n",
    "                prime = False\n",
    "    return prime\n",
    "CheckPrime(n)"
   ]
  },
  {
   "cell_type": "markdown",
   "metadata": {},
   "source": [
    "<p>There are two issues:</p>\n",
    "<ol>\n",
    "<li>It does not test if <code>n</code> is less than 2, and there are no primes less than 2;</li>\n",
    "<li>It tests every number between 2 and n**0.5 including all even and all odd numbers. Since every number greater than 2 that is divisible by 2 is not prime, we can speed it up a little by only testing odd numbers greater than 2.</li>\n",
    "</ol>"
   ]
  },
  {
   "cell_type": "code",
   "execution_count": 46,
   "metadata": {},
   "outputs": [
    {
     "name": "stdout",
     "output_type": "stream",
     "text": [
      "enter a number: 53\n",
      "List of prime Number between 2 and 53 : [2, 3, 5, 7, 11, 13, 17, 19, 23, 25, 29, 31, 35, 37, 41, 43, 47, 49, 53]\n"
     ]
    }
   ],
   "source": [
    "n = int(input(\"enter a number: \"))\n",
    "l = []\n",
    "for i in range(2,n+1):\n",
    "    l.append(i)\n",
    "c = 2\n",
    "flag = True\n",
    "while flag:\n",
    "    for i in l:\n",
    "        if c in l:\n",
    "            if i >=c**2 and i%c==0:\n",
    "                l.remove(i)\n",
    "        else:\n",
    "            pass\n",
    "    c+=1\n",
    "    if c not in l:\n",
    "        flag = False\n",
    "print(\"List of prime Number between 2 and {} : {}\".format(n,l))"
   ]
  },
  {
   "cell_type": "code",
   "execution_count": 47,
   "metadata": {},
   "outputs": [
    {
     "data": {
      "text/plain": [
       "6"
      ]
     },
     "execution_count": 47,
     "metadata": {},
     "output_type": "execute_result"
    }
   ],
   "source": [
    "def gcd(a, b):\n",
    "    if a == 0:\n",
    "        return b\n",
    "\n",
    "    return gcd(b % a, a)\n",
    "gcd(30,42)\n"
   ]
  },
  {
   "cell_type": "markdown",
   "metadata": {},
   "source": [
    "## Factorial"
   ]
  },
  {
   "cell_type": "code",
   "execution_count": 5,
   "metadata": {},
   "outputs": [
    {
     "name": "stdout",
     "output_type": "stream",
     "text": [
      "Enter the Number: 5\n"
     ]
    },
    {
     "data": {
      "text/plain": [
       "120"
      ]
     },
     "execution_count": 5,
     "metadata": {},
     "output_type": "execute_result"
    }
   ],
   "source": [
    "def factorial(a):\n",
    "    if a==0 or a==1:\n",
    "        return 1\n",
    "    return a * factorial(a-1)\n",
    "n = int(input(\"Enter the Number: \"))\n",
    "factorial(n)"
   ]
  },
  {
   "cell_type": "code",
   "execution_count": 8,
   "metadata": {},
   "outputs": [
    {
     "name": "stdout",
     "output_type": "stream",
     "text": [
      "factorial of 5 is 120\n"
     ]
    }
   ],
   "source": [
    "def factorial_without_recursion(n):\n",
    "    if n<0:\n",
    "        return 0\n",
    "    elif n==0 or n==1:\n",
    "        return 1\n",
    "    else:\n",
    "        fact = 1\n",
    "        while(n>1):\n",
    "            fact *=n\n",
    "            n-=1\n",
    "        return fact\n",
    "print(\"factorial of\",n,\"is\",factorial_without_recursion(n))"
   ]
  },
  {
   "cell_type": "markdown",
   "metadata": {},
   "source": [
    "# Permutation\n",
    "Permutation is the different arrangements of a given number of elements taken one by one, or some, or all at a time. For example, if we have two elements A and B, then there are two possible arrangements, AB and BA."
   ]
  },
  {
   "cell_type": "markdown",
   "metadata": {},
   "source": [
    "<p>Number of permutations when 'r' elements are arranged out of a total of 'n' elements is<br> \n",
    "    \n",
    "   <strong style=\"font-size:20px;\"><sup>n</sup>P<sub>r</sub> = n! / (n-r)!</strong></p>\n",
    "   \n",
    "let n = 4 (A,B,C,D) and r = 2 than total permutations is equal to 4!/(4-2)! = 12"
   ]
  },
  {
   "cell_type": "markdown",
   "metadata": {},
   "source": [
    "<div>\n",
    "<strong>Important Properties of Permutation</strong>\n",
    ":\n",
    "<br>\n",
    "<ol>\n",
    "<li><sup>n</sup> P <sub>n</sub> = n*(n-1)*(n-2)*......*1 = n!.</li>\n",
    "<li><sup>n</sup> P <sub>0</sub> = n! / n! = 1.</li>\n",
    "<li><sup>n</sup> P <sub>1</sub> = n.</li>\n",
    "<li><sup>n</sup> P <sub>n-1</sub> = n!.</li>\n",
    "<li><sup>n</sup> P <sub>r</sub>/<sup>n</sup> P <sub>r-1</sub> = n - r + 1.</li>\n",
    "</ol>\n",
    "</div>"
   ]
  },
  {
   "cell_type": "markdown",
   "metadata": {},
   "source": [
    "<p>\n",
    "<strong> Permutation with repetition allowed </strong> : <br>The number of permutation or arrangements of N numbers with repetition allowed will be <strong> N<sup>N</sup></strong> \n",
    "</p>\n",
    "<p><strong>Permutation with duplicates</strong><br> \n",
    "<strong style=\"font-size:20px;\"> n! / (p1!*p2!*....*pk!)!</strong></p>"
   ]
  },
  {
   "cell_type": "markdown",
   "metadata": {},
   "source": [
    "## Combination\n",
    "Combination is the different selections of a given number of elements taken one by one or same, or all at a time. For example, if we have two elements A and B, then there is only one way to select two items , we select both of them.\n",
    "### No. of Combinations\n",
    "when 'r' elements are selected out of a total of 'n' elements is \n",
    "<p style = \"font-size:20px;\"><sup>n</sup>C<sub>r</sub> = <strong> n! / [(r!) * (n-r)!]</strong></p>"
   ]
  },
  {
   "cell_type": "markdown",
   "metadata": {},
   "source": [
    "<div>\n",
    "    <p><strong>Important Properties of Combination</strong>\n",
    ":<br>\n",
    "<ol>\n",
    "<li><sup>n</sup> C <sub>0</sub> = <sup>n</sup> C <sub>n</sub> = 1.</li>\n",
    "<li><sup>n</sup> C <sub>r</sub> = <sup>n</sup> C <sub>n-r</sub>.</li>\n",
    "<li><sup>n</sup> C <sub>r</sub> + <sup>n</sup> C <sub>r-1</sub> = <sup>n+1</sup> C <sub>r</sub>.</li>\n",
    "<li>n * <sup>n-1</sup> C <sub>r-1</sub> = (n - r + 1)* <sup>n</sup> C <sub>r-1</sub>.</li>\n",
    "</ol>\n",
    "    </p>\n",
    "</div>"
   ]
  },
  {
   "cell_type": "code",
   "execution_count": 16,
   "metadata": {},
   "outputs": [
    {
     "name": "stdout",
     "output_type": "stream",
     "text": [
      "Enter a number: 3\n",
      "6\n"
     ]
    }
   ],
   "source": [
    "'''LCM for given range of numbers'''\n",
    "n = int(input(\"Enter a number: \"))\n",
    "l = list(range(1,n+1))\n",
    "from math import gcd #will work for an int array of any length\n",
    "lcm = l[0]\n",
    "for i in l[1:]:\n",
    "    lcm = lcm*i//gcd(lcm, i)\n",
    "print(lcm)"
   ]
  },
  {
   "cell_type": "code",
   "execution_count": 11,
   "metadata": {},
   "outputs": [
    {
     "data": {
      "text/plain": [
       "[1, 2, 3, 4, 5, 6]"
      ]
     },
     "execution_count": 11,
     "metadata": {},
     "output_type": "execute_result"
    }
   ],
   "source": [
    "l = list(range(1,n+1))\n",
    "l"
   ]
  },
  {
   "cell_type": "markdown",
   "metadata": {},
   "source": [
    "## Addition Under Modulo"
   ]
  },
  {
   "cell_type": "code",
   "execution_count": 18,
   "metadata": {},
   "outputs": [
    {
     "name": "stdout",
     "output_type": "stream",
     "text": [
      "1107789718\n"
     ]
    }
   ],
   "source": [
    "a = 8279685334796349382\n",
    "b = 3890369874501826197\n",
    "M = 1000000007\n",
    "#Modulo sum (a + b)modulo m  = (a modulo m) + (b modulo m)\n",
    "sum = (a%M) + (b%M)\n",
    "print(sum)"
   ]
  },
  {
   "cell_type": "code",
   "execution_count": 21,
   "metadata": {},
   "outputs": [
    {
     "data": {
      "text/plain": [
       "1107789718"
      ]
     },
     "execution_count": 21,
     "metadata": {},
     "output_type": "execute_result"
    }
   ],
   "source": []
  },
  {
   "cell_type": "code",
   "execution_count": 22,
   "metadata": {},
   "outputs": [
    {
     "data": {
      "text/plain": [
       "107789711"
      ]
     },
     "execution_count": 22,
     "metadata": {},
     "output_type": "execute_result"
    }
   ],
   "source": [
    "(a+b)%M"
   ]
  },
  {
   "cell_type": "code",
   "execution_count": 137,
   "metadata": {},
   "outputs": [
    {
     "name": "stdout",
     "output_type": "stream",
     "text": [
      "-2.0 -2.0\n"
     ]
    }
   ],
   "source": [
    "a = 2\n",
    "b = 8\n",
    "c = 8\n",
    "import math\n",
    "try:\n",
    "    f = round(-b + math.sqrt(b**2 - 4*a*c))/(2.0*a)\n",
    "    g = round(-b - math.sqrt(b**2 - 4*a*c))/(2.0*a)\n",
    "except:\n",
    "    print('Imaginary')\n",
    "else:\n",
    "    print(f,g)\n",
    "# try:\n",
    "#     e = math.floor(-b - math.sqrt(b**2 - 4*a*c))/2.0*a\n",
    "# except:\n",
    "#     print('Imaginary')"
   ]
  },
  {
   "cell_type": "code",
   "execution_count": 139,
   "metadata": {},
   "outputs": [],
   "source": [
    "n = 30\n",
    "l = list(range(2,n+1))\n",
    "s =[str(round(i**(1/2),2)) for i in l]\n",
    "sn = [str(i)+'.0' for i in range(2,n+1)]"
   ]
  },
  {
   "cell_type": "code",
   "execution_count": 145,
   "metadata": {},
   "outputs": [
    {
     "data": {
      "text/plain": [
       "50.0"
      ]
     },
     "execution_count": 145,
     "metadata": {},
     "output_type": "execute_result"
    }
   ],
   "source": [
    "catn = 1/3\n",
    "matn = 1/2\n",
    "intersection = 60\n",
    "st = 300\n",
    "notincat = 300*(1/3)\n",
    "passedstudents = \n",
    "notinmat = 300*(1/2)\n",
    "totalclear = 300 - (notincat+notinmat)\n",
    "totalclear"
   ]
  },
  {
   "cell_type": "code",
   "execution_count": null,
   "metadata": {},
   "outputs": [],
   "source": []
  }
 ],
 "metadata": {
  "kernelspec": {
   "display_name": "Python 3",
   "language": "python",
   "name": "python3"
  },
  "language_info": {
   "codemirror_mode": {
    "name": "ipython",
    "version": 3
   },
   "file_extension": ".py",
   "mimetype": "text/x-python",
   "name": "python",
   "nbconvert_exporter": "python",
   "pygments_lexer": "ipython3",
   "version": "3.7.1"
  }
 },
 "nbformat": 4,
 "nbformat_minor": 2
}
